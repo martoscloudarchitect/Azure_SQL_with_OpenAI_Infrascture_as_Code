{
 "cells": [
  {
   "cell_type": "markdown",
   "metadata": {},
   "source": [
    "This project was deployed using `Python 3.11` virtual environment.\n",
    "- First, let's install the libraries and then\n",
    "- Second, we will import the libraries that we will use in this project."
   ]
  },
  {
   "cell_type": "code",
   "execution_count": null,
   "metadata": {},
   "outputs": [],
   "source": [
    "%pip install -r requirements.txt"
   ]
  },
  {
   "cell_type": "code",
   "execution_count": 1,
   "metadata": {},
   "outputs": [
    {
     "name": "stdout",
     "output_type": "stream",
     "text": [
      "Project python libraries imported successfully\n"
     ]
    }
   ],
   "source": [
    "import os\n",
    "from dotenv import load_dotenv\n",
    "import sqlalchemy\n",
    "import pyodbc\n",
    "import pandas as pd\n",
    "from pandasai import SmartDataframe\n",
    "from pandasai.responses.response_parser import ResponseParser\n",
    "from langchain_openai import AzureChatOpenAI\n",
    "import streamlit as st\n",
    "\n",
    "print('Project python libraries imported successfully')"
   ]
  },
  {
   "cell_type": "markdown",
   "metadata": {},
   "source": [
    "Now let's import the environment variables to connect to our SQL Database."
   ]
  },
  {
   "cell_type": "code",
   "execution_count": 2,
   "metadata": {},
   "outputs": [
    {
     "name": "stdout",
     "output_type": "stream",
     "text": [
      "Database Host Name: barcelonaaoaipocrgr imported successfully from the environment variables\n"
     ]
    }
   ],
   "source": [
    "load_dotenv()\n",
    "\n",
    "## SQL Database Credentials\n",
    "db_host_name=os.getenv('SQL_SERVER_NAME')\n",
    "db_name=os.getenv('SQL_DB_NAME')\n",
    "db_user=os.getenv('SQL_SERVER_USERNAME')\n",
    "db_password=os.getenv('SQL_SERVER_PASSWORD')\n",
    "odbc_driver='{ODBC Driver 18 for SQL Server}'\n",
    "\n",
    "# Confirms that the environment variables are loaded successfully\n",
    "print(f\"Database Host Name: {db_host_name} imported successfully from the environment variables\")\n"
   ]
  },
  {
   "cell_type": "markdown",
   "metadata": {},
   "source": [
    "With the resources api's and credentials imported, not it is time to test the connectivity with the SQL Server:"
   ]
  },
  {
   "cell_type": "code",
   "execution_count": 4,
   "metadata": {},
   "outputs": [],
   "source": [
    "# Create connection string\n",
    "connection_string = {\n",
    "    'drivername': 'mssql+pyodbc',\n",
    "    'username': db_user,\n",
    "    'password': db_password,\n",
    "    'host': f\"{db_host_name}.database.windows.net\",\n",
    "    'port': 1433,\n",
    "    'database': db_name,\n",
    "    'query': {'driver': 'ODBC Driver 18 for SQL Server'}\n",
    "}\n",
    "db_url = sqlalchemy.engine.url.URL(**connection_string)\n",
    "\n",
    "# Connect to the database using SQLAlchemy\n",
    "engine = sqlalchemy.create_engine(db_url)\n",
    "connection = engine.connect()\n",
    "\n",
    "# SQL Query to import all data from the garminactivities table, for Small table only - not for scale.\n",
    "query = \"SELECT * FROM [dbo].[garminactivities]\"\n",
    "\n",
    "data_df = pd.read_sql(query, connection)\n",
    "\n",
    "connection.close()"
   ]
  },
  {
   "cell_type": "markdown",
   "metadata": {},
   "source": [
    "We have a working connection to the Azure SQL Database in azure, now to keep the capacity and performance of this POC under control, let's connect to the database `aoai`, let's go to the table called `garminactivities` and let's bring all the activity records to a pandas dataframe."
   ]
  },
  {
   "cell_type": "code",
   "execution_count": null,
   "metadata": {},
   "outputs": [],
   "source": []
  },
  {
   "cell_type": "code",
   "execution_count": 32,
   "metadata": {},
   "outputs": [],
   "source": [
    "# Creates a langchain_openai object to interact with the OpenAI API\n",
    "llm = AzureChatOpenAI(\n",
    "        \n",
    "        model=os.getenv(\"OPENAI_CHAT_MODEL\"),\n",
    "        deployment_name=os.getenv(\"OPENAI_CHAT_MODEL\"),\n",
    "        temperature=0\n",
    "    )"
   ]
  },
  {
   "cell_type": "code",
   "execution_count": null,
   "metadata": {},
   "outputs": [],
   "source": [
    "class StreamlitResponse(ResponseParser):\n",
    "    def __init__(self, context) -> None:\n",
    "        super().__init__(context)\n",
    "\n",
    "    def format_dataframe(self, result):\n",
    "        st.dataframe(result[\"value\"])\n",
    "        return\n",
    "\n",
    "    def format_plot(self, result):\n",
    "        st.image(result[\"value\"])\n",
    "        return\n",
    "\n",
    "    def format_other(self, result):\n",
    "        st.write(result[\"value\"])\n",
    "        return\n",
    "\n",
    "query_engine = SmartDataframe(\n",
    "        data_df,\n",
    "        config={\"llm\": llm,\n",
    "                \"response_parser\": StreamlitResponse(context={})\n",
    "                }\n",
    "    )\n",
    "\n",
    "summary = \"Describle what is the data about. Provide a description or each column based on the header and sample from the data records.\"\n",
    "overview = query_engine.chat(summary)\n",
    "print(overview)"
   ]
  },
  {
   "cell_type": "code",
   "execution_count": null,
   "metadata": {},
   "outputs": [],
   "source": []
  }
 ],
 "metadata": {
  "kernelspec": {
   "display_name": ".venv",
   "language": "python",
   "name": "python3"
  },
  "language_info": {
   "codemirror_mode": {
    "name": "ipython",
    "version": 3
   },
   "file_extension": ".py",
   "mimetype": "text/x-python",
   "name": "python",
   "nbconvert_exporter": "python",
   "pygments_lexer": "ipython3",
   "version": "3.11.0rc2"
  }
 },
 "nbformat": 4,
 "nbformat_minor": 2
}
